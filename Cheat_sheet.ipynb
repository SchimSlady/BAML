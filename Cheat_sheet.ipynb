{
 "cells": [
  {
   "cell_type": "markdown",
   "metadata": {},
   "source": [
    "# Pandas Cheatsheet "
   ]
  },
  {
   "cell_type": "markdown",
   "metadata": {},
   "source": [
    "### Basics"
   ]
  },
  {
   "cell_type": "code",
   "execution_count": null,
   "metadata": {},
   "outputs": [],
   "source": [
    "# Imports\n",
    "import pandas as pd\n",
    "\n",
    "# File reading/writing\n",
    "df = pd.read_csv(\"data.csv\")\n",
    "df.to_csv(\"output.csv\")\n",
    "\n",
    "# Access columns and rows\n",
    "df['column']\n",
    "df.iloc[0]\n",
    "df.loc[0, 'column']\n",
    "\n",
    "# Get help\n",
    "help(pd.read_csv)"
   ]
  },
  {
   "cell_type": "markdown",
   "metadata": {},
   "source": [
    "### Data Inspection"
   ]
  },
  {
   "cell_type": "code",
   "execution_count": null,
   "metadata": {},
   "outputs": [],
   "source": [
    "df.index # Index of the DataFrame\n",
    "df.head() # Display first 5 rows\n",
    "df.tail() # Display last 5 rows\n",
    "df.shape # Returns (rows, columns)\n",
    "df.columns # List column names\n",
    "df.info() # Summary of the DataFrame\n",
    "df.describe() # Statistical summary of numeric columns\n",
    "df.dtypes # Data type of each column\n",
    "df.isnull() # Missing values in each column\n",
    "df.isna() # NaN values in each column\n",
    "df[\"col\"].any() # Check if any value in boolean column is True\n",
    "df[\"col\"].all() # Check if all values in boolean column are True\n",
    "df.corr() # Correlation matrix\n",
    "df['col'].unique() # Unique values in a column\n",
    "df['col'].sum() # Sum of a column\n",
    "df['col'].min() # Minimum of a column\n",
    "df['col'].max() # Maximum of a column\n",
    "df['col'].mean() # Mean of a column\n",
    "df['col'].std() # Standard deviation of a column\n",
    "df['col'].idxmax() # Get maximizing index"
   ]
  },
  {
   "cell_type": "markdown",
   "metadata": {},
   "source": [
    "### Data Selection"
   ]
  },
  {
   "cell_type": "code",
   "execution_count": null,
   "metadata": {},
   "outputs": [],
   "source": [
    "df['column'] # Select column as Series\n",
    "df[['col1', 'col2']] # Select multiple columns as DataFrame\n",
    "df.iloc[0, 1] # Select by row and column index\n",
    "df.loc[0, 'col'] # Select by label\n",
    "df.iloc[0:3] # Select rows by index\n",
    "df[df['col'] > 10] # Filter rows by condition (also with .loc)\n",
    "\n",
    "\n",
    "# Filters\n",
    "\n",
    "f = df['col'] > 10 # Returns a Series element with boolean values\n",
    "df[f] # Selects rows by filter\n",
    "\n",
    "# Combined filters\n",
    "f = (df['col1'] > 10) & (df['col2'] == 'a') # logical 'and'\n",
    "f = (df['col1'] > 10) | (df['col2'] == 'a') # logical 'or'\n",
    "\n",
    "# Useful filter functions\n",
    "f = df['col'].between(10, 20)\n",
    "f = df['col'].isin(list_of_values)"
   ]
  },
  {
   "cell_type": "markdown",
   "metadata": {},
   "source": [
    "### Data Manipulation"
   ]
  },
  {
   "cell_type": "code",
   "execution_count": null,
   "metadata": {},
   "outputs": [],
   "source": [
    "df['new_col'] = df['col1'] + df['col2'] # Add new column\n",
    "df.rename(columns={'old_name': 'new_name'}) # Rename column\n",
    "df.replace({1: 2, \"a\": \"b\"}) # Replace values\n",
    "df.drop('col', axis=1) # Drop column\n",
    "df.drop(1, axis=0) # Drop row\n",
    "df.dropna() # Drop missing values\n",
    "df.fillna(0) # Fill missing values\n",
    "df.sort_values(by='col') # Sort DataFrame by column\n",
    "df.apply(foo, axis=1) # Apply function across columns/rows\n",
    "df['col'].apply(foo) # Apply function across values of a Series\n",
    "df['col'].map(foo) # Apply function across values of a Series\n",
    "df['col'].where(df['col'] > 0, 0) # Replace all values where cond. is False\n",
    "df['col'].astype(int) # Convert column to integers\n",
    "df['col'].astype('category') # Convert column to categorical numbers\n",
    "df['col'].cat.codes # Convert categorical to numerical values\n",
    "pd.cut(df['col'], 3) # Sort values into bins"
   ]
  },
  {
   "cell_type": "markdown",
   "metadata": {},
   "source": [
    "### Data Aggregation"
   ]
  },
  {
   "cell_type": "code",
   "execution_count": null,
   "metadata": {},
   "outputs": [],
   "source": [
    "df.groupby('col') # Group by column 'col'\n",
    "df.agg({'col': 'sum'}) # Aggregate using functions\n",
    "df.value_counts(normalize=False) # Frequency count of values"
   ]
  },
  {
   "cell_type": "markdown",
   "metadata": {},
   "source": [
    "### Merging and Joining"
   ]
  },
  {
   "cell_type": "code",
   "execution_count": null,
   "metadata": {},
   "outputs": [],
   "source": [
    "pd.merge(df1, df2, on='key', how='outer') # Merge dfs on a key column\n",
    "df1.join(df2) # Join DataFrames on index\n",
    "pd.concat([df1, df2]) # Concatenate DataFrames"
   ]
  },
  {
   "cell_type": "markdown",
   "metadata": {},
   "source": [
    "### Dates and Time"
   ]
  },
  {
   "cell_type": "code",
   "execution_count": null,
   "metadata": {},
   "outputs": [],
   "source": [
    "# Convert values to Datetime\n",
    "df[\"date\"] = pd.to_datetime(df[\"date\"], errors=\"coerce\", format=\"%Y-%m-%d\")\n",
    "# Receive information from Datetime\n",
    "df[\"date\"].dt.dayofweek\n",
    "df[\"date\"].dt.day\n",
    "df[\"date\"].dt.month\n",
    "df[\"date\"].dt.year\n",
    "df[\"date\"].dt.quarter"
   ]
  },
  {
   "cell_type": "markdown",
   "metadata": {},
   "source": [
    "### Plotting"
   ]
  },
  {
   "cell_type": "markdown",
   "metadata": {},
   "source": [
    "#### Pandas Plotting"
   ]
  },
  {
   "cell_type": "code",
   "execution_count": null,
   "metadata": {},
   "outputs": [],
   "source": [
    "df.plot(x='col1', y='col2') # Line plot\n",
    "df['col'].plot(kind='hist') # Histogram\n",
    "df.plot(x='col1', y=['col2', 'col3'], kind='bar') # Bar plot\n",
    "df.plot(x='col1', y='col2', kind='scatter') # Scatter plot"
   ]
  },
  {
   "cell_type": "markdown",
   "metadata": {},
   "source": [
    "#### Matplotlib Plotting"
   ]
  },
  {
   "cell_type": "code",
   "execution_count": null,
   "metadata": {},
   "outputs": [],
   "source": [
    "import matplotlib.pyplot as plt\n",
    "\n",
    "# Line plot\n",
    "plt.plot(df['col1'], df['col2'])\n",
    "\n",
    "# Title, annotations, and prettifications\n",
    "plt.title(\"Title\")\n",
    "plt.xlabel(\"X-axis label\")\n",
    "plt.ylabel(\"Y-axis label\")\n",
    "plt.grid()\n",
    "plt.legend()\n",
    "\n",
    "# Save plot\n",
    "plt.savefig(\"plot.png\")"
   ]
  }
 ],
 "metadata": {
  "kernelspec": {
   "display_name": ".venv",
   "language": "python",
   "name": "python3"
  },
  "language_info": {
   "codemirror_mode": {
    "name": "ipython",
    "version": 3
   },
   "file_extension": ".py",
   "mimetype": "text/x-python",
   "name": "python",
   "nbconvert_exporter": "python",
   "pygments_lexer": "ipython3",
   "version": "3.12.7"
  }
 },
 "nbformat": 4,
 "nbformat_minor": 2
}
