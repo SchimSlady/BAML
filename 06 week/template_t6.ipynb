{
 "cells": [
  {
   "cell_type": "markdown",
   "metadata": {},
   "source": [
    "# Preparing the development of a music recommender system"
   ]
  },
  {
   "cell_type": "code",
   "execution_count": 22,
   "metadata": {},
   "outputs": [],
   "source": [
    "import pandas as pd\n",
    "import numpy as np\n",
    "import matplotlib.pyplot as plt"
   ]
  },
  {
   "cell_type": "markdown",
   "metadata": {},
   "source": [
    "### Data Cleaning"
   ]
  },
  {
   "cell_type": "markdown",
   "metadata": {},
   "source": [
    "##### users.csv"
   ]
  },
  {
   "cell_type": "markdown",
   "metadata": {},
   "source": [
    "**Task**: Import the *users.csv* file "
   ]
  },
  {
   "cell_type": "code",
   "execution_count": 23,
   "metadata": {},
   "outputs": [],
   "source": [
    "df_users = pd.read_csv(\"users.csv\", delimiter=\";\")"
   ]
  },
  {
   "cell_type": "markdown",
   "metadata": {},
   "source": [
    "**Task**: Rename the columns according to the description in the exercise sheet into a more readible format."
   ]
  },
  {
   "cell_type": "code",
   "execution_count": null,
   "metadata": {},
   "outputs": [],
   "source": [
    "df_users.head(10)"
   ]
  },
  {
   "cell_type": "markdown",
   "metadata": {},
   "source": [
    "**Task**: Unify the labels for the *Premium* attribute."
   ]
  },
  {
   "cell_type": "code",
   "execution_count": null,
   "metadata": {},
   "outputs": [],
   "source": [
    "df_users.rename(columns={'uid' : 'user_id'}, inplace=True)\n",
    "df_users.rename(columns={\"p\" : \"Premium\"}, inplace=True)\n",
    "df_users.rename(columns={\"m1\" : \"Minutes1\"}, inplace=True)\n",
    "df_users.rename(columns={\"m2\" : \"Minutes2\"}, inplace=True)\n",
    "df_users.rename(columns={\"m3\" : \"Minutes3\"}, inplace=True)\n",
    "df_users['Premium'] = df_users['Premium'].map({'Yes': True, 'No': False, '1':True, '0': False})\n",
    "df_users"
   ]
  },
  {
   "cell_type": "markdown",
   "metadata": {},
   "source": [
    "**Task**: Impute the missing values of the attribute *Minutes2* using the values of *Minutes1* and *Minutes3*."
   ]
  },
  {
   "cell_type": "code",
   "execution_count": null,
   "metadata": {},
   "outputs": [],
   "source": [
    "df_users.info()\n",
    "df_users['differenceCol']= df_users['Minutes3']-df_users['Minutes1']\n",
    "df_users.plot(x='user_id', y='differenceCol', style='o')"
   ]
  },
  {
   "cell_type": "code",
   "execution_count": null,
   "metadata": {},
   "outputs": [],
   "source": [
    "df_users['Minutes2'] = df_users['Minutes2'].fillna((df_users['Minutes1'] +df_users['Minutes3'])/2)\n",
    "df_users"
   ]
  },
  {
   "cell_type": "markdown",
   "metadata": {},
   "source": [
    "##### user_behavior.csv"
   ]
  },
  {
   "cell_type": "markdown",
   "metadata": {},
   "source": [
    "**Task**: Read the *user_behavior.csv* file."
   ]
  },
  {
   "cell_type": "code",
   "execution_count": null,
   "metadata": {},
   "outputs": [],
   "source": [
    "user_behavior = pd.read_csv(\"user_behavior.csv\", delimiter=\";\")\n",
    "user_behavior"
   ]
  },
  {
   "cell_type": "markdown",
   "metadata": {},
   "source": [
    "**Task**: Rename the columns according to the description in the exercise sheet."
   ]
  },
  {
   "cell_type": "code",
   "execution_count": null,
   "metadata": {},
   "outputs": [],
   "source": [
    "user_behavior.rename(columns={'ml' : 'minListened'}, inplace=True)\n",
    "user_behavior.rename(columns={\"g\" : \"genre\"}, inplace=True)\n",
    "user_behavior.rename(columns={\"f\" : \"liked\"}, inplace=True)\n",
    "user_behavior.rename(columns={\"mod\" : \"reviewDate\"}, inplace=True)\n",
    "user_behavior\n"
   ]
  },
  {
   "cell_type": "markdown",
   "metadata": {},
   "source": [
    "**Task:** Fix the data types of the attributes *Genre* (categorical) and *Favorite* (binary, categorical)."
   ]
  },
  {
   "cell_type": "code",
   "execution_count": null,
   "metadata": {},
   "outputs": [],
   "source": [
    "user_behavior['genre'] = user_behavior['genre'].astype('category')\n",
    "user_behavior['liked'] = user_behavior['liked'].astype('bool')\n",
    "user_behavior.info()"
   ]
  },
  {
   "cell_type": "markdown",
   "metadata": {},
   "source": [
    "**Task:** Some genres have more songs than others. Adjust the data set such that it includes only the four largest genres and the genre \"Other\" that summarizes all remaining genres."
   ]
  },
  {
   "cell_type": "code",
   "execution_count": null,
   "metadata": {},
   "outputs": [],
   "source": [
    "genreCount = user_behavior['genre'].value_counts()\n",
    "genreCount.plot(kind='bar')"
   ]
  },
  {
   "cell_type": "code",
   "execution_count": null,
   "metadata": {},
   "outputs": [],
   "source": [
    "user_behavior['genre'] = user_behavior['genre'].map({'Electronic':'Electronic', 'Rock': 'Rock', 'Hip-Hop':'Hip-Hop', 'Pop':'Pop'}).fillna('Other')\n",
    "user_behavior['genre']= user_behavior['genre'].astype('category')\n",
    "\n",
    "genreCount = user_behavior['genre'].value_counts()\n",
    "genreCount.plot(kind='bar')"
   ]
  },
  {
   "cell_type": "markdown",
   "metadata": {},
   "source": [
    "**Task:** Create for a new column for the weekday, year, month, and day of each date names *ModifiedAt*."
   ]
  },
  {
   "cell_type": "code",
   "execution_count": null,
   "metadata": {},
   "outputs": [],
   "source": [
    "user_behavior"
   ]
  },
  {
   "cell_type": "code",
   "execution_count": null,
   "metadata": {},
   "outputs": [],
   "source": [
    "user_behavior['reviewDate'] = pd.to_datetime(user_behavior['reviewDate'], format= \"%Y-%m-%d\")\n",
    "user_behavior['weekday'] = user_behavior['reviewDate'].dt.day_name()\n",
    "user_behavior['Year'] = user_behavior['reviewDate'].dt.year\n",
    "user_behavior['Month'] = user_behavior['reviewDate'].dt.month\n",
    "user_behavior['Day'] = user_behavior['reviewDate'].dt.day\n",
    "\n",
    "user_behavior"
   ]
  },
  {
   "cell_type": "markdown",
   "metadata": {},
   "source": [
    "#### artists.csv"
   ]
  },
  {
   "cell_type": "markdown",
   "metadata": {},
   "source": [
    "**Task**: Read the *artists.csv* file and re-name the columns according to the exercise sheet."
   ]
  },
  {
   "cell_type": "code",
   "execution_count": null,
   "metadata": {},
   "outputs": [],
   "source": [
    "artists = pd.read_csv(\"artists.csv\", delimiter=\";\")\n",
    "\n",
    "artists.rename(columns={\"featured\" : \"Featured\"}, inplace=True)\n",
    "artists"
   ]
  },
  {
   "cell_type": "markdown",
   "metadata": {},
   "source": [
    "**Task:** Convert the attributes *Genre* and *Featured* to categorical variables."
   ]
  },
  {
   "cell_type": "code",
   "execution_count": null,
   "metadata": {},
   "outputs": [],
   "source": [
    "artists['genre'] = artists['genre'].astype('category')\n",
    "artists['Featured'] = artists['Featured'].astype('category')\n",
    "artists.info()"
   ]
  },
  {
   "cell_type": "markdown",
   "metadata": {},
   "source": [
    "### Data aggregation"
   ]
  },
  {
   "cell_type": "markdown",
   "metadata": {},
   "source": [
    "**Task:** Merge the *users* and *user_behavior* tables together. Create a view in which you determine how many minutes a user listens to songs on average. Additionally, what is the highest number of clicks a user had on a song?"
   ]
  },
  {
   "cell_type": "code",
   "execution_count": null,
   "metadata": {},
   "outputs": [],
   "source": [
    "user_with_behavior= pd.merge(df_users, user_behavior, on='user_id')\n",
    "user_with_behavior.groupby('user_id').agg(Average = ('minListened','mean'), MaxClicks = (\"num_clicks\",\"max\")).reset_index()\n"
   ]
  },
  {
   "cell_type": "markdown",
   "metadata": {},
   "source": [
    "**Task:** Merge the *user_behavior* and *artist* tables to determine the most clicked artist per genre (defined by the song)."
   ]
  },
  {
   "cell_type": "code",
   "execution_count": null,
   "metadata": {},
   "outputs": [],
   "source": [
    "artists_with_behavior= artists.merge(user_behavior, left_on='artist_id', right_on='artists')\n",
    "artists_with_behavior\n"
   ]
  },
  {
   "cell_type": "markdown",
   "metadata": {},
   "source": [
    "Question: Why can't we just use artists.merge(user_behavior)?"
   ]
  },
  {
   "cell_type": "code",
   "execution_count": null,
   "metadata": {},
   "outputs": [],
   "source": []
  },
  {
   "cell_type": "markdown",
   "metadata": {},
   "source": [
    "Answer: "
   ]
  },
  {
   "cell_type": "markdown",
   "metadata": {},
   "source": [
    "Which is the most clicked artist per genre of the song?"
   ]
  },
  {
   "cell_type": "code",
   "execution_count": null,
   "metadata": {},
   "outputs": [],
   "source": [
    "group = artists_with_behavior.groupby()"
   ]
  },
  {
   "cell_type": "markdown",
   "metadata": {},
   "source": [
    "Answer:"
   ]
  },
  {
   "cell_type": "markdown",
   "metadata": {},
   "source": [
    "**Task**: Determine for each artist, the fan that spends the most minutes listening their music"
   ]
  },
  {
   "cell_type": "markdown",
   "metadata": {},
   "source": []
  },
  {
   "cell_type": "code",
   "execution_count": null,
   "metadata": {},
   "outputs": [],
   "source": []
  }
 ],
 "metadata": {
  "kernelspec": {
   "display_name": ".venv",
   "language": "python",
   "name": "python3"
  },
  "language_info": {
   "codemirror_mode": {
    "name": "ipython",
    "version": 3
   },
   "file_extension": ".py",
   "mimetype": "text/x-python",
   "name": "python",
   "nbconvert_exporter": "python",
   "pygments_lexer": "ipython3",
   "version": "3.12.7"
  }
 },
 "nbformat": 4,
 "nbformat_minor": 2
}
