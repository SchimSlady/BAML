{
 "cells": [
  {
   "cell_type": "markdown",
   "metadata": {},
   "source": [
    "# Implementation of an OLS solver"
   ]
  },
  {
   "cell_type": "markdown",
   "metadata": {},
   "source": [
    "In this exercise, you will implement your own function for solving OLS regression problems in Python.\n",
    "\n",
    "The function takes the data samples in matrix-form ($X$, $y$) as inputs and returns the minimizing solution $\\beta$ as well as the remaining error $\\mathcal{L}(\\beta)$."
   ]
  },
  {
   "cell_type": "code",
   "execution_count": 7,
   "metadata": {},
   "outputs": [],
   "source": [
    "# Imports\n",
    "import sys\n",
    "sys.path.append(r'C:\\Users\\tscha\\BAML\\.venv\\Lib\\site-packages')\n",
    "\n",
    "import numpy as np\n",
    "import pandas as pd\n",
    "from sklearn.linear_model import LinearRegression\n",
    "import matplotlib.pyplot as plt"
   ]
  },
  {
   "cell_type": "markdown",
   "metadata": {},
   "source": [
    "### Exercise H2.1"
   ]
  },
  {
   "cell_type": "code",
   "execution_count": 8,
   "metadata": {},
   "outputs": [
    {
     "name": "stdout",
     "output_type": "stream",
     "text": [
      "Forecasted demand for t = 10: 147.21555555555557\n",
      "RMSE: 1.755016794967297\n",
      "Forecasted demand for t = 10 (with seasonality): 147.48429553264603\n"
     ]
    },
    {
     "data": {
      "image/png": "[encoded data removed]",
      "text/plain": [
       "<Figure size 640x480 with 1 Axes>"
      ]
     },
     "metadata": {},
     "output_type": "display_data"
    }
   ],
   "source": [
    "t = np.array([0,1,2,3,4,5,6,7,8])\n",
    "\n",
    "demand = np.array ([28.20, 37.65, 47.28, 59.76, 73.44, 86.19, 100.31, 112.58, 121.63])\n",
    "\n",
    "X = np.vstack([np.ones(len(t)), t]).T  # Adding intercept column (ones)\n",
    "beta = np.linalg.inv(X.T @ X) @ X.T @ demand  # Beta values\n",
    "\n",
    "beta_0, beta_1 = beta\n",
    "\n",
    "# Forecast for t = 10\n",
    "t_forecast = 10\n",
    "forecasted_demand = beta_0 + beta_1 * t_forecast\n",
    "print(f\"Forecasted demand for t = 10: {forecasted_demand}\")\n",
    "\n",
    "# Calculate predicted demand (y_hat) for each time period\n",
    "y_hat = X @ beta\n",
    "\n",
    "# Calculate RMSE\n",
    "rmse = np.sqrt(np.mean((y_hat - demand) ** 2))\n",
    "print(f\"RMSE: {rmse}\")\n",
    "\n",
    "# Create the seasonal component (Q1) for each time period\n",
    "Q1 = np.array([0, 0, 1, 1, 0, 0, 1, 1, 0])\n",
    "\n",
    "# Create the design matrix with intercept, t, and Q1\n",
    "X_seasonal = np.vstack([np.ones(len(t)), t, Q1]).T\n",
    "\n",
    "# Perform linear regression to find beta_0, beta_1, and beta_2\n",
    "beta_seasonal = np.linalg.inv(X_seasonal.T @ X_seasonal) @ X_seasonal.T @ demand\n",
    "\n",
    "# Extract beta_0, beta_1, and beta_2\n",
    "beta_0_seasonal, beta_1_seasonal, beta_2_seasonal = beta_seasonal\n",
    "\n",
    "# Forecast for t = 10 with the seasonal component\n",
    "Q1_forecast = 0  # As we are forecasting for t = 10, which corresponds to Q1 = 0\n",
    "forecasted_demand_seasonal = beta_0_seasonal + beta_1_seasonal * t_forecast + beta_2_seasonal * Q1_forecast\n",
    "print(f\"Forecasted demand for t = 10 (with seasonality): {forecasted_demand_seasonal}\")\n",
    "\n",
    "# Plot the demand data\n",
    "plt.plot(t, demand, label='Actual Demand')\n",
    "plt.title(\"Customer Demand over Time\")\n",
    "plt.xlabel(\"Time (t)\")\n",
    "plt.ylabel(\"Demand\")\n",
    "plt.show()"
   ]
  },
  {
   "cell_type": "markdown",
   "metadata": {},
   "source": [
    "## Exercise a)\n",
    "\n",
    "Implement the function."
   ]
  },
  {
   "cell_type": "code",
   "execution_count": 9,
   "metadata": {},
   "outputs": [],
   "source": [
    "def fit_parameters(X, y):\n",
    "    \"\"\"Compute optimal parameters by least-squares regression.\n",
    "\n",
    "    Args:\n",
    "        X (np.ndarray): The input variables, containing intercept variables if required.\n",
    "        y (np.ndarray): The target variables.\n",
    "\n",
    "    Returns:\n",
    "        np.ndarray: The parameter vector (beta)\n",
    "        float: The remaining loss\n",
    "    \"\"\"\n",
    "    beta = np.linalg.solve(X.T @ X, X.T @ y)\n",
    "    predicted = X @ beta\n",
    "    loss = np.square(predicted - y).sum()\n",
    "    return beta, loss"
   ]
  },
  {
   "cell_type": "markdown",
   "metadata": {},
   "source": [
    "## Exercise b)\n",
    "\n",
    "For our provided toy data set (*ols-implementation-data.csv*), find the optimal regression parameters with the help of your implementation. Don't forget to add a variable for the intercept parameter!"
   ]
  },
  {
   "cell_type": "code",
   "execution_count": 11,
   "metadata": {},
   "outputs": [
    {
     "name": "stdout",
     "output_type": "stream",
     "text": [
      "Parameters by our model: [47.81880739 -0.25241394  3.38759361]\n",
      "Loss by our model: 96199.44\n",
      "\n"
     ]
    }
   ],
   "source": [
    "# Load dataset\n",
    "data = pd.read_csv(\"ols-implementation-data.csv\")\n",
    "X = data[[\"x1\", \"x2\"]].to_numpy()\n",
    "y = data[\"y\"].to_numpy()\n",
    "\n",
    "# Add intercept variables\n",
    "x_intercept = np.hstack([np.ones([X.shape[0], 1]), X])\n",
    "\n",
    "# Find optimal parameter values\n",
    "beta, loss = fit_parameters(x_intercept, y) # TODO\n",
    "print(f\"Parameters by our model: {beta}\")\n",
    "print(f\"Loss by our model: {loss:.2f}\\n\")"
   ]
  },
  {
   "cell_type": "markdown",
   "metadata": {},
   "source": [
    "## Exercise c)\n",
    "\n",
    "Repeat b) with the aid of scikit-learn [``LinearRegression``](https://scikit-learn.org/stable/modules/generated/sklearn.linear_model.LinearRegression.html) and verify your solution."
   ]
  },
  {
   "cell_type": "code",
   "execution_count": 12,
   "metadata": {},
   "outputs": [
    {
     "name": "stdout",
     "output_type": "stream",
     "text": [
      "Parameters by scikit-learn: [47.81880739 -0.25241394  3.38759361]\n",
      "Loss by scikit-learn: 96199.44\n"
     ]
    }
   ],
   "source": [
    "# Using scikit-learn\n",
    "model = LinearRegression(fit_intercept=True)\n",
    "model.fit(X, y)\n",
    "beta_skl = np.array([model.intercept_, *model.coef_])\n",
    "y_pred_skl = model.predict(X)\n",
    "loss_skl = np.square(y_pred_skl - y).sum()\n",
    "print(f\"Parameters by scikit-learn: {beta_skl}\")\n",
    "print(f\"Loss by scikit-learn: {loss_skl:.2f}\")"
   ]
  },
  {
   "cell_type": "markdown",
   "metadata": {},
   "source": [
    "## Exercise d)\n",
    "\n",
    "How much of the total variance can you explain with your model? Compute the R^2 measure. What happens if you forget about the intercept? How does the R^2 measure compare?"
   ]
  },
  {
   "cell_type": "code",
   "execution_count": 15,
   "metadata": {},
   "outputs": [
    {
     "name": "stdout",
     "output_type": "stream",
     "text": [
      "R2 with intercept: 0.554\n",
      "\n"
     ]
    }
   ],
   "source": [
    "# R^2 measure\n",
    "tss = np.square(y - y.mean()).sum()\n",
    "rss = np.square(x_intercept @ beta - y).sum()\n",
    "R2 = 1 - rss/tss\n",
    "print(f\"R2 with intercept: {R2:.3f}\\n\")"
   ]
  },
  {
   "cell_type": "code",
   "execution_count": 16,
   "metadata": {},
   "outputs": [
    {
     "name": "stdout",
     "output_type": "stream",
     "text": [
      "Parameters without intercept: [-0.24122558  4.03669799]\n",
      "R2 without intercept: -0.485\n",
      "\n"
     ]
    }
   ],
   "source": [
    "# Without intercept\n",
    "beta, loss = fit_parameters(X, y)\n",
    "tss = np.square(y - y.mean()).sum()\n",
    "rss = np.square(X @ beta - y).sum()\n",
    "R2 = 1 - rss/tss\n",
    "print(f\"Parameters without intercept: {beta}\")\n",
    "print(f\"R2 without intercept: {R2:.3f}\\n\")"
   ]
  },
  {
   "cell_type": "markdown",
   "metadata": {},
   "source": [
    "## Exercise e)\n",
    "\n",
    "The computed R^2 value is not very good (even with the intercept). What could be the reason?\n",
    "\n",
    "\"The model choice could be an inadequate match. Nonlinear transformations of the input variables\n",
    "(i.e. generalized least squares) could provide a better solution. In the solution script, you can find a\n",
    "generalized least-squares model where we added quadratic terms.\""
   ]
  }
 ],
 "metadata": {
  "kernelspec": {
   "display_name": ".venv",
   "language": "python",
   "name": "python3"
  },
  "language_info": {
   "codemirror_mode": {
    "name": "ipython",
    "version": 3
   },
   "file_extension": ".py",
   "mimetype": "text/x-python",
   "name": "python",
   "nbconvert_exporter": "python",
   "pygments_lexer": "ipython3",
   "version": "3.12.7"
  }
 },
 "nbformat": 4,
 "nbformat_minor": 2
}
