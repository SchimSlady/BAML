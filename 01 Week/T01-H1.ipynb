{
 "cells": [
  {
   "cell_type": "markdown",
   "metadata": {},
   "source": [
    "### Homework 1\n"
   ]
  },
  {
   "cell_type": "markdown",
   "metadata": {},
   "source": [
    "### Exercise 1\n",
    "Null Hypothesis 𝐻0: The population mean is zero (𝜇=0)  <br/> \n",
    "Alternative Hypothesis 𝐻1: The population mean is not zero (𝜇≠0)"
   ]
  },
  {
   "cell_type": "code",
   "execution_count": 4,
   "metadata": {},
   "outputs": [
    {
     "name": "stdout",
     "output_type": "stream",
     "text": [
      "T-statistic: 8.1122671263022\n",
      "P-value: 1.3617582871110555e-07\n",
      "Reject the null hypothesis: the sample mean is significantly different from zero.\n"
     ]
    }
   ],
   "source": [
    "\n",
    "import scipy.stats as stats\n",
    "data = [2, 3, 2, 4, 2, 4, 5, 2, 1, 4, 3, 0, 3, 2, 4, 5, 3, 3, 0, 1]\n",
    "alpha = 0.05\n",
    "\n",
    "t_statistic, p_value = stats.ttest_1samp(data,0)\n",
    "\n",
    "print(f\"T-statistic: {t_statistic}\")\n",
    "print(f\"P-value: {p_value}\")\n",
    "\n",
    "if p_value < alpha:\n",
    "    print(\"Reject the null hypothesis: the sample mean is significantly different from zero.\")\n",
    "else:\n",
    "    print(\"Fail to reject the null hypothesis: the sample mean is not significantly different from zero.\")\n"
   ]
  }
 ],
 "metadata": {
  "kernelspec": {
   "display_name": "Python 3",
   "language": "python",
   "name": "python3"
  },
  "language_info": {
   "codemirror_mode": {
    "name": "ipython",
    "version": 3
   },
   "file_extension": ".py",
   "mimetype": "text/x-python",
   "name": "python",
   "nbconvert_exporter": "python",
   "pygments_lexer": "ipython3",
   "version": "3.12.7"
  }
 },
 "nbformat": 4,
 "nbformat_minor": 2
}
