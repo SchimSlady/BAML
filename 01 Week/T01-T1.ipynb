{
 "cells": [
  {
   "cell_type": "code",
   "execution_count": 1,
   "metadata": {},
   "outputs": [
    {
     "name": "stdout",
     "output_type": "stream",
     "text": [
      " t - statistic =  -3.3733735722635085\n",
      " p - value =  0.008212883453442435\n",
      " t - statistic =  -3.3733735722635085\n",
      " p - value =  0.008212883453442435\n"
     ]
    }
   ],
   "source": [
    "import scipy.stats as stats\n",
    "\n",
    "a = [27 ,31 ,23 ,35 ,26 ,27 ,26 ,18 ,22 ,21]\n",
    "b = [40 ,36 ,43 ,34 ,25 ,41 ,32 ,29 ,21 ,36]\n",
    "t_statistic , p_value = stats.ttest_rel (a , b )\n",
    "print (\" t - statistic = \" , t_statistic )\n",
    "print (\" p - value = \" , p_value )\n",
    "d = [ a[ i ] - b [ i ] for i in range ( len ( a ))]\n",
    "t_statistic , p_value = stats.ttest_1samp (d , 0)\n",
    "print (\" t - statistic = \" , t_statistic )\n",
    "print (\" p - value = \" , p_value )\n"
   ]
  },
  {
   "cell_type": "code",
   "execution_count": 5,
   "metadata": {},
   "outputs": [
    {
     "data": {
      "text/plain": [
       "TtestResult(statistic=np.float64(1.9494276330540574), pvalue=np.float64(0.03470640093813483), df=np.float64(15.637129303716286))"
      ]
     },
     "execution_count": 5,
     "metadata": {},
     "output_type": "execute_result"
    }
   ],
   "source": [
    "\n",
    "adult = [4 , 2 , 3 , 5 , 7 , 2 , 7 , 3 , 5, 2]\n",
    "child = [2 , 1 , 5 , 3 , 1 , 3 , 2 , 3]\n",
    "result = stats.ttest_ind( adult , child , alternative =\"greater\" , equal_var = False )\n",
    "result\n"
   ]
  }
 ],
 "metadata": {
  "kernelspec": {
   "display_name": ".venv",
   "language": "python",
   "name": "python3"
  },
  "language_info": {
   "codemirror_mode": {
    "name": "ipython",
    "version": 3
   },
   "file_extension": ".py",
   "mimetype": "text/x-python",
   "name": "python",
   "nbconvert_exporter": "python",
   "pygments_lexer": "ipython3",
   "version": "3.12.7"
  }
 },
 "nbformat": 4,
 "nbformat_minor": 2
}
