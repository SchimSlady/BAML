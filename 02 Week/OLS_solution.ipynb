{
 "cells": [
  {
   "cell_type": "markdown",
   "metadata": {},
   "source": [
    "# Implementation of an OLS solver"
   ]
  },
  {
   "cell_type": "markdown",
   "metadata": {},
   "source": [
    "In this exercise, you will implement your own function for solving OLS regression problems in Python.\n",
    "\n",
    "The function takes the data samples in matrix-form ($X$, $y$) as inputs and returns the minimizing solution $\\beta$ as well as the remaining error $\\mathcal{L}(\\beta)$."
   ]
  },
  {
   "cell_type": "code",
   "execution_count": 1,
   "metadata": {},
   "outputs": [],
   "source": [
    "# Imports\n",
    "import sys\n",
    "sys.path.append(r'C:\\Users\\tscha\\BAML\\.venv\\Lib\\site-packages')\n",
    "import numpy as np\n",
    "import pandas as pd\n",
    "from sklearn.linear_model import LinearRegression"
   ]
  },
  {
   "cell_type": "markdown",
   "metadata": {},
   "source": [
    "## Exercise a)\n",
    "\n",
    "Implement the function."
   ]
  },
  {
   "cell_type": "code",
   "execution_count": 2,
   "metadata": {},
   "outputs": [],
   "source": [
    "def fit_parameters(X, y):\n",
    "    \"\"\"Compute optimal parameters by least-squares regression.\n",
    "\n",
    "    Args:\n",
    "        X (np.ndarray): The input variables, containing intercept variables if required.\n",
    "        y (np.ndarray): The target variables.\n",
    "\n",
    "    Returns:\n",
    "        np.ndarray: The parameter vector (beta)\n",
    "        float: The remaining loss\n",
    "    \"\"\"\n",
    "    # Solve X^T * X * beta = X^T * y\n",
    "    # The @ operator performs a matrix multiplication.\n",
    "    beta = np.linalg.solve(X.T @ X, X.T @ y)\n",
    "    predicted = X @ beta\n",
    "    loss = np.square(predicted - y).sum()\n",
    "    return beta, loss"
   ]
  },
  {
   "cell_type": "markdown",
   "metadata": {},
   "source": [
    "## Exercise b)\n",
    "\n",
    "For our provided toy data set (*ols-implementation-data.csv*), find the optimal regression parameters with the help of your implementation. Don't forget to add a variable for the intercept parameter!"
   ]
  },
  {
   "cell_type": "code",
   "execution_count": 3,
   "metadata": {},
   "outputs": [
    {
     "name": "stdout",
     "output_type": "stream",
     "text": [
      "Parameters by our model: [47.81880739 -0.25241394  3.38759361]\n",
      "Loss by our model: 96199.44\n",
      "\n"
     ]
    }
   ],
   "source": [
    "# Load dataset\n",
    "data = pd.read_csv(\"ols-implementation-data.csv\")\n",
    "X = data[[\"x1\", \"x2\"]].to_numpy()\n",
    "y = data[\"y\"].to_numpy()\n",
    "\n",
    "# Add intercept variables\n",
    "X_with_intercept = np.hstack([np.ones([X.shape[0], 1]), X])\n",
    "\n",
    "# Find optimal parameter values\n",
    "beta, loss = fit_parameters(X_with_intercept, y)\n",
    "print(f\"Parameters by our model: {beta}\")\n",
    "print(f\"Loss by our model: {loss:.2f}\\n\")"
   ]
  },
  {
   "cell_type": "markdown",
   "metadata": {},
   "source": [
    "## Exercise c)\n",
    "\n",
    "Repeat b) with the aid of scikit-learn [``LinearRegression``](https://scikit-learn.org/stable/modules/generated/sklearn.linear_model.LinearRegression.html) and verify your solution."
   ]
  },
  {
   "cell_type": "code",
   "execution_count": 4,
   "metadata": {},
   "outputs": [
    {
     "name": "stdout",
     "output_type": "stream",
     "text": [
      "Parameters by scikit-learn: [47.81880739 -0.25241394  3.38759361]\n",
      "Loss by scikit-learn: 96199.44\n"
     ]
    }
   ],
   "source": [
    "# Using scikit-learn\n",
    "model = LinearRegression(fit_intercept=True)\n",
    "model.fit(X, y)\n",
    "beta_skl = np.array([model.intercept_, *model.coef_])\n",
    "y_pred_skl = model.predict(X)\n",
    "loss_skl = np.square(y_pred_skl - y).sum()\n",
    "print(f\"Parameters by scikit-learn: {beta_skl}\")\n",
    "print(f\"Loss by scikit-learn: {loss_skl:.2f}\")"
   ]
  },
  {
   "cell_type": "markdown",
   "metadata": {},
   "source": [
    "## Exercise d)\n",
    "\n",
    "How much of the total variance can you explain with your model? Compute the R^2 measure. What happens if you forget about the intercept? How does the R^2 measure compare?"
   ]
  },
  {
   "cell_type": "code",
   "execution_count": 5,
   "metadata": {},
   "outputs": [
    {
     "name": "stdout",
     "output_type": "stream",
     "text": [
      "R2 with intercept: 0.554\n",
      "\n"
     ]
    }
   ],
   "source": [
    "# R^2 measure\n",
    "tss = np.square(y - y.mean()).sum()\n",
    "rss = np.square(X_with_intercept @ beta - y).sum()\n",
    "R2 = 1 - rss/tss\n",
    "print(f\"R2 with intercept: {R2:.3f}\\n\")"
   ]
  },
  {
   "cell_type": "code",
   "execution_count": 6,
   "metadata": {},
   "outputs": [
    {
     "name": "stdout",
     "output_type": "stream",
     "text": [
      "Parameters without intercept: [-0.24122558  4.03669799]\n",
      "R2 without intercept: -0.485\n",
      "\n"
     ]
    }
   ],
   "source": [
    "# Without intercept\n",
    "beta, loss = fit_parameters(X, y)\n",
    "tss = np.square(y - y.mean()).sum()\n",
    "rss = np.square(X @ beta - y).sum()\n",
    "R2 = 1 - rss/tss\n",
    "print(f\"Parameters without intercept: {beta}\")\n",
    "print(f\"R2 without intercept: {R2:.3f}\\n\")"
   ]
  },
  {
   "cell_type": "markdown",
   "metadata": {},
   "source": [
    "## Exercise e)\n",
    "\n",
    "The computed R^2 value is not very good (even with the intercept). What could be the reason?"
   ]
  },
  {
   "cell_type": "markdown",
   "metadata": {},
   "source": [
    "**Solution**: The model choice could be an inadequate match. Nonlinear transformations of the input variables (i.e. generalized least squares) could provide a better solution. With quadratric terms, the fit is much better:"
   ]
  },
  {
   "cell_type": "code",
   "execution_count": 7,
   "metadata": {},
   "outputs": [
    {
     "name": "stdout",
     "output_type": "stream",
     "text": [
      "Parameters with squared terms: [ 2.20087707e+01 -1.00142510e+00  3.00182908e+00  2.48549853e-01\n",
      "  3.75508163e-03]\n",
      "Loss by our model: 1014.96\n",
      "R2 of GLS: 0.995\n"
     ]
    }
   ],
   "source": [
    "## Extra: Fitting with generalized linear regression\n",
    "# We add additional quadratic terms to our model \n",
    "X_GLS = np.hstack([X_with_intercept, np.square(X)])\n",
    "beta, loss = fit_parameters(X_GLS, y)\n",
    "print(f\"Parameters with squared terms: {beta}\")\n",
    "print(f\"Loss by our model: {loss:.2f}\")\n",
    "\n",
    "tss = np.square(y - y.mean()).sum()\n",
    "rss = np.square(X_GLS @ beta - y).sum()\n",
    "R2 = 1 - rss/tss\n",
    "print(f\"R2 of GLS: {R2:.3f}\")"
   ]
  }
 ],
 "metadata": {
  "kernelspec": {
   "display_name": "Python 3",
   "language": "python",
   "name": "python3"
  },
  "language_info": {
   "codemirror_mode": {
    "name": "ipython",
    "version": 3
   },
   "file_extension": ".py",
   "mimetype": "text/x-python",
   "name": "python",
   "nbconvert_exporter": "python",
   "pygments_lexer": "ipython3",
   "version": "3.12.7"
  }
 },
 "nbformat": 4,
 "nbformat_minor": 2
}
